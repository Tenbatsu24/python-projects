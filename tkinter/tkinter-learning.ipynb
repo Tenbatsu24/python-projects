{
 "cells": [
  {
   "cell_type": "markdown",
   "metadata": {},
   "source": [
    "# Python GUIs"
   ]
  },
  {
   "cell_type": "markdown",
   "metadata": {},
   "source": [
    "## Set Up enviornment"
   ]
  },
  {
   "cell_type": "code",
   "execution_count": 2,
   "metadata": {},
   "outputs": [],
   "source": [
    "from tkinter import *"
   ]
  },
  {
   "cell_type": "markdown",
   "metadata": {},
   "source": [
    "This inits the Tkinter module upon which everything is built"
   ]
  },
  {
   "cell_type": "markdown",
   "metadata": {},
   "source": [
    "Tkinter is a two step process,  \n",
    " [ ] Create  \n",
    " [ ] Show on Screen"
   ]
  },
  {
   "cell_type": "code",
   "execution_count": 3,
   "metadata": {},
   "outputs": [],
   "source": [
    "# Stuff everything is built on\n",
    "root = Tk()\n",
    "# creation\n",
    "my_label = Label(root, text = \"Hello World!\")\n",
    "# showing on screen\n",
    "my_label.pack()\n",
    "# event-listner thing that everything has (html, application, program ends when loop ends)\n",
    "root.mainloop()"
   ]
  },
  {
   "cell_type": "markdown",
   "metadata": {},
   "source": [
    "Grid - naive positioning"
   ]
  },
  {
   "cell_type": "code",
   "execution_count": 4,
   "metadata": {},
   "outputs": [],
   "source": [
    "root = Tk()\n",
    "# creation\n",
    "my_label_h = Label(root, text = \"Hello World!\")\n",
    "my_label_e = Label(root, text = \" \")\n",
    "my_label_g = Label(root, text = \"My name is Woof\")\n",
    "# showing on screen\n",
    "my_label_h.grid(row=0, column=0)\n",
    "my_label_e.grid(row=0, column=1)\n",
    "my_label_g.grid(row=0, column=2)\n",
    "# event-listner thing that everything has (html, application, program ends when loop ends)\n",
    "root.mainloop()"
   ]
  },
  {
   "cell_type": "markdown",
   "metadata": {},
   "source": [
    "Buttons"
   ]
  },
  {
   "cell_type": "code",
   "execution_count": 8,
   "metadata": {},
   "outputs": [],
   "source": [
    "root = Tk()\n",
    "\n",
    "def my_click():\n",
    "    my_label = Label(root, text = \"Clicked\")\n",
    "    my_label.grid(row = 1, column = 0)\n",
    "\n",
    "my_button = Button(root, text = \"Click!\", command=my_click, fg=\"white\", bg=\"black\", padx=10)\n",
    "my_button.grid(row = 0, column = 0)\n",
    "\n",
    "root.mainloop()"
   ]
  },
  {
   "cell_type": "markdown",
   "metadata": {},
   "source": [
    "Input Fields"
   ]
  },
  {
   "cell_type": "code",
   "execution_count": 15,
   "metadata": {},
   "outputs": [],
   "source": [
    "root = Tk()\n",
    "\n",
    "entry = Entry(root)\n",
    "entry.insert(0, \"Enter your name...\")\n",
    "entry.grid(row = 0, column = 0)\n",
    "\n",
    "def greet():\n",
    "    my_label = Label(root, text = \"Hello {}!\".format(entry.get()))\n",
    "    my_label.grid(row = 2, column = 0)\n",
    "\n",
    "my_button = Button(root, text = \"Submit\", command = greet)\n",
    "my_button.grid(row = 1, column = 0)\n",
    "\n",
    "root.mainloop()"
   ]
  },
  {
   "cell_type": "markdown",
   "metadata": {},
   "source": [
    "# Calculator - Example"
   ]
  },
  {
   "cell_type": "code",
   "execution_count": 91,
   "metadata": {},
   "outputs": [
    {
     "name": "stdout",
     "output_type": "stream",
     "text": [
      "9\n",
      "+\n",
      "8\n",
      "9 + 8 =\n",
      "+\n",
      "7\n",
      "17 + 7 =\n",
      "-\n",
      "8\n",
      "24 - 8 =\n",
      "*\n",
      "2\n",
      "16 * 2 =\n",
      "/\n",
      "4\n",
      "32 / 4 =\n"
     ]
    }
   ],
   "source": [
    "root = Tk()\n",
    "root.title(\"Simple Calculator\")\n",
    "\n",
    "first_number = 0\n",
    "\n",
    "operation = \"\"\n",
    "\n",
    "result = 0\n",
    "\n",
    "entry = Entry(root, width = 35, borderwidth = 5)\n",
    "entry.insert(0, \"\")\n",
    "entry.grid(row = 0, column = 0, columnspan = 3, padx=10, pady=10)\n",
    "\n",
    "def clear():\n",
    "    entry.delete(0, END)\n",
    "    entry.insert(0,\"\")\n",
    "    \n",
    "    first_nmber = 0\n",
    "    result = 0\n",
    "    op = \"\"\n",
    "    \n",
    "    return\n",
    "\n",
    "def set_op(op):\n",
    "    \n",
    "    global first_number\n",
    "    global operation\n",
    "    \n",
    "    print(op)\n",
    "    if op == \"C\":\n",
    "        op = \"\"\n",
    "    else:\n",
    "        first_number = int(entry.get())\n",
    "        operation = op\n",
    "    clear()\n",
    "\n",
    "def equal():\n",
    "    \n",
    "    global first_number\n",
    "\n",
    "    global operation\n",
    "\n",
    "    global result\n",
    "    \n",
    "    second_number = int(entry.get())\n",
    "    print(\"{} {} {} =\".format(first_number, operation, second_number))\n",
    "    if (operation == \"+\"):\n",
    "        result = first_number + second_number\n",
    "    elif (operation == \"-\"):\n",
    "        result = first_number - second_number\n",
    "    elif (operation == \"*\"):\n",
    "        result = first_number * second_number\n",
    "    elif (operation == \"/\"):\n",
    "        result = first_number / second_number\n",
    "    else:\n",
    "        result = \"\"\n",
    "    if (result != \"\"):\n",
    "        first_number = result\n",
    "    clear()\n",
    "    entry.insert(0, str(result))\n",
    "        \n",
    "def append_to_field(number):\n",
    "    print(number)\n",
    "    new_num = \"{}{}\".format(entry.get(), number)\n",
    "    entry.delete(0, END)\n",
    "    entry.insert(0, new_num)\n",
    "\n",
    "operations = [\"C\", \"+\", \"-\", \"*\", \"/\"]\n",
    "equal_sign = [\"=\"]\n",
    "numbers = [i for i in range(9, -1, -1)]\n",
    "functions = [lambda op=op: set_op(op) for op in operations] + [equal] + [lambda i=i: append_to_field(i) for i in numbers]\n",
    "buttons = [Button(root, text = operation, padx=40, pady=20, command=functions[index]) for index, operation in enumerate(operations + equal_sign + numbers)]\n",
    "\n",
    "row_i = 1\n",
    "col_i = 0\n",
    "for button in buttons:\n",
    "    button.grid(row = row_i, column = col_i)\n",
    "    if (col_i == 2):\n",
    "        col_i = 0\n",
    "        row_i += 1\n",
    "    else:\n",
    "        col_i += 1\n",
    "\n",
    "root.mainloop()"
   ]
  },
  {
   "cell_type": "code",
   "execution_count": null,
   "metadata": {},
   "outputs": [],
   "source": []
  },
  {
   "cell_type": "code",
   "execution_count": null,
   "metadata": {},
   "outputs": [],
   "source": []
  }
 ],
 "metadata": {
  "kernelspec": {
   "display_name": "Python 3",
   "language": "python",
   "name": "python3"
  },
  "language_info": {
   "codemirror_mode": {
    "name": "ipython",
    "version": 3
   },
   "file_extension": ".py",
   "mimetype": "text/x-python",
   "name": "python",
   "nbconvert_exporter": "python",
   "pygments_lexer": "ipython3",
   "version": "3.8.5"
  }
 },
 "nbformat": 4,
 "nbformat_minor": 4
}
